{
 "cells": [
  {
   "cell_type": "code",
   "execution_count": 2,
   "metadata": {
    "collapsed": true
   },
   "outputs": [
    {
     "name": "stdout",
     "output_type": "stream",
     "text": [
      "195\n"
     ]
    }
   ],
   "source": [
    "import tensorflow_datasets as tfds\n",
    "\n",
    "\n",
    "print(len(tfds.list_builders()))\n"
   ]
  },
  {
   "cell_type": "code",
   "execution_count": 3,
   "outputs": [
    {
     "name": "stdout",
     "output_type": "stream",
     "text": [
      "['abstract_reasoning', 'aeslc', 'aflw2k3d', 'ai2_arc', 'amazon_us_reviews']\n"
     ]
    }
   ],
   "source": [
    "print(tfds.list_builders()[:5])"
   ],
   "metadata": {
    "collapsed": false,
    "pycharm": {
     "name": "#%%\n"
    }
   }
  },
  {
   "cell_type": "code",
   "execution_count": 4,
   "outputs": [
    {
     "name": "stdout",
     "output_type": "stream",
     "text": [
      "FeaturesDict({\n",
      "    'attributes': FeaturesDict({\n",
      "        '5_o_Clock_Shadow': tf.bool,\n",
      "        'Arched_Eyebrows': tf.bool,\n",
      "        'Attractive': tf.bool,\n",
      "        'Bags_Under_Eyes': tf.bool,\n",
      "        'Bald': tf.bool,\n",
      "        'Bangs': tf.bool,\n",
      "        'Big_Lips': tf.bool,\n",
      "        'Big_Nose': tf.bool,\n",
      "        'Black_Hair': tf.bool,\n",
      "        'Blond_Hair': tf.bool,\n",
      "        'Blurry': tf.bool,\n",
      "        'Brown_Hair': tf.bool,\n",
      "        'Bushy_Eyebrows': tf.bool,\n",
      "        'Chubby': tf.bool,\n",
      "        'Double_Chin': tf.bool,\n",
      "        'Eyeglasses': tf.bool,\n",
      "        'Goatee': tf.bool,\n",
      "        'Gray_Hair': tf.bool,\n",
      "        'Heavy_Makeup': tf.bool,\n",
      "        'High_Cheekbones': tf.bool,\n",
      "        'Male': tf.bool,\n",
      "        'Mouth_Slightly_Open': tf.bool,\n",
      "        'Mustache': tf.bool,\n",
      "        'Narrow_Eyes': tf.bool,\n",
      "        'No_Beard': tf.bool,\n",
      "        'Oval_Face': tf.bool,\n",
      "        'Pale_Skin': tf.bool,\n",
      "        'Pointy_Nose': tf.bool,\n",
      "        'Receding_Hairline': tf.bool,\n",
      "        'Rosy_Cheeks': tf.bool,\n",
      "        'Sideburns': tf.bool,\n",
      "        'Smiling': tf.bool,\n",
      "        'Straight_Hair': tf.bool,\n",
      "        'Wavy_Hair': tf.bool,\n",
      "        'Wearing_Earrings': tf.bool,\n",
      "        'Wearing_Hat': tf.bool,\n",
      "        'Wearing_Lipstick': tf.bool,\n",
      "        'Wearing_Necklace': tf.bool,\n",
      "        'Wearing_Necktie': tf.bool,\n",
      "        'Young': tf.bool,\n",
      "    }),\n",
      "    'image': Image(shape=(218, 178, 3), dtype=tf.uint8),\n",
      "    'landmarks': FeaturesDict({\n",
      "        'lefteye_x': tf.int64,\n",
      "        'lefteye_y': tf.int64,\n",
      "        'leftmouth_x': tf.int64,\n",
      "        'leftmouth_y': tf.int64,\n",
      "        'nose_x': tf.int64,\n",
      "        'nose_y': tf.int64,\n",
      "        'righteye_x': tf.int64,\n",
      "        'righteye_y': tf.int64,\n",
      "        'rightmouth_x': tf.int64,\n",
      "        'rightmouth_y': tf.int64,\n",
      "    }),\n",
      "})\n",
      "Image(shape=(218, 178, 3), dtype=tf.uint8)\n",
      "dict_keys(['5_o_Clock_Shadow', 'Arched_Eyebrows', 'Attractive', 'Bags_Under_Eyes', 'Bald', 'Bangs', 'Big_Lips', 'Big_Nose', 'Black_Hair', 'Blond_Hair', 'Blurry', 'Brown_Hair', 'Bushy_Eyebrows', 'Chubby', 'Double_Chin', 'Eyeglasses', 'Goatee', 'Gray_Hair', 'Heavy_Makeup', 'High_Cheekbones', 'Male', 'Mouth_Slightly_Open', 'Mustache', 'Narrow_Eyes', 'No_Beard', 'Oval_Face', 'Pale_Skin', 'Pointy_Nose', 'Receding_Hairline', 'Rosy_Cheeks', 'Sideburns', 'Smiling', 'Straight_Hair', 'Wavy_Hair', 'Wearing_Earrings', 'Wearing_Hat', 'Wearing_Lipstick', 'Wearing_Necklace', 'Wearing_Necktie', 'Young'])\n",
      "@inproceedings{conf/iccv/LiuLWT15,\n",
      "  added-at = {2018-10-09T00:00:00.000+0200},\n",
      "  author = {Liu, Ziwei and Luo, Ping and Wang, Xiaogang and Tang, Xiaoou},\n",
      "  biburl = {https://www.bibsonomy.org/bibtex/250e4959be61db325d2f02c1d8cd7bfbb/dblp},\n",
      "  booktitle = {ICCV},\n",
      "  crossref = {conf/iccv/2015},\n",
      "  ee = {http://doi.ieeecomputersociety.org/10.1109/ICCV.2015.425},\n",
      "  interhash = {3f735aaa11957e73914bbe2ca9d5e702},\n",
      "  intrahash = {50e4959be61db325d2f02c1d8cd7bfbb},\n",
      "  isbn = {978-1-4673-8391-2},\n",
      "  keywords = {dblp},\n",
      "  pages = {3730-3738},\n",
      "  publisher = {IEEE Computer Society},\n",
      "  timestamp = {2018-10-11T11:43:28.000+0200},\n",
      "  title = {Deep Learning Face Attributes in the Wild.},\n",
      "  url = {http://dblp.uni-trier.de/db/conf/iccv/iccv2015.html#LiuLWT15},\n",
      "  year = 2015\n",
      "}\n"
     ]
    }
   ],
   "source": [
    "celeba_bldr = tfds.builder('celeb_a')\n",
    "\n",
    "print(celeba_bldr.info.features)\n",
    "\n",
    "print(celeba_bldr.info.features['image'])\n",
    "\n",
    "print(celeba_bldr.info.features['attributes'].keys())\n",
    "\n",
    "print(celeba_bldr.info.citation)\n",
    "\n"
   ],
   "metadata": {
    "collapsed": false,
    "pycharm": {
     "name": "#%%\n"
    }
   }
  },
  {
   "cell_type": "code",
   "execution_count": 6,
   "outputs": [
    {
     "name": "stdout",
     "output_type": "stream",
     "text": [
      "\u001B[1mDownloading and preparing dataset mnist/3.0.1 (download: Unknown size, generated: Unknown size, total: Unknown size) to C:\\Users\\varka\\tensorflow_datasets\\mnist\\3.0.1...\u001B[0m\n",
      "\n",
      "\n",
      "\n",
      "\n",
      "\n",
      "\n",
      "Shuffling and writing examples to C:\\Users\\varka\\tensorflow_datasets\\mnist\\3.0.1.incompleteJWNBPS\\mnist-train.tfrecord\n",
      "Shuffling and writing examples to C:\\Users\\varka\\tensorflow_datasets\\mnist\\3.0.1.incompleteJWNBPS\\mnist-test.tfrecord\n",
      "\u001B[1mDataset mnist downloaded and prepared to C:\\Users\\varka\\tensorflow_datasets\\mnist\\3.0.1. Subsequent calls will reuse this data.\u001B[0m\n"
     ]
    },
    {
     "data": {
      "text/plain": "HBox(children=(FloatProgress(value=1.0, bar_style='info', description='Dl Completed...', max=1.0, style=Progre…",
      "application/vnd.jupyter.widget-view+json": {
       "version_major": 2,
       "version_minor": 0,
       "model_id": "83f9bf3432ce48e8b0a90af02c5ad885"
      }
     },
     "metadata": {},
     "output_type": "display_data"
    },
    {
     "data": {
      "text/plain": "HBox(children=(FloatProgress(value=1.0, bar_style='info', description='Dl Size...', max=1.0, style=ProgressSty…",
      "application/vnd.jupyter.widget-view+json": {
       "version_major": 2,
       "version_minor": 0,
       "model_id": "41b77104676d441a87f9f59d265a4242"
      }
     },
     "metadata": {},
     "output_type": "display_data"
    },
    {
     "data": {
      "text/plain": "HBox(children=(FloatProgress(value=1.0, bar_style='info', description='Extraction completed...', max=1.0, styl…",
      "application/vnd.jupyter.widget-view+json": {
       "version_major": 2,
       "version_minor": 0,
       "model_id": "7ad2ec1a00654642b6eccc6661f9e4f4"
      }
     },
     "metadata": {},
     "output_type": "display_data"
    },
    {
     "data": {
      "text/plain": "HBox(children=(FloatProgress(value=1.0, bar_style='info', max=1.0), HTML(value='')))",
      "application/vnd.jupyter.widget-view+json": {
       "version_major": 2,
       "version_minor": 0,
       "model_id": "99bd04f8245642e8b9ef0340e12b8229"
      }
     },
     "metadata": {},
     "output_type": "display_data"
    },
    {
     "data": {
      "text/plain": "HBox(children=(FloatProgress(value=0.0, max=60000.0), HTML(value='')))",
      "application/vnd.jupyter.widget-view+json": {
       "version_major": 2,
       "version_minor": 0,
       "model_id": "3d684ff18ab84c1797c04ef215d54f91"
      }
     },
     "metadata": {},
     "output_type": "display_data"
    },
    {
     "data": {
      "text/plain": "HBox(children=(FloatProgress(value=1.0, bar_style='info', max=1.0), HTML(value='')))",
      "application/vnd.jupyter.widget-view+json": {
       "version_major": 2,
       "version_minor": 0,
       "model_id": "ecb9c07947c646f2b2f7af6adff53bdc"
      }
     },
     "metadata": {},
     "output_type": "display_data"
    },
    {
     "data": {
      "text/plain": "HBox(children=(FloatProgress(value=0.0, max=10000.0), HTML(value='')))",
      "application/vnd.jupyter.widget-view+json": {
       "version_major": 2,
       "version_minor": 0,
       "model_id": "37788cfdd03e477b8ebe81a5d02cbefa"
      }
     },
     "metadata": {},
     "output_type": "display_data"
    }
   ],
   "source": [
    "mnist, mnist_info = tfds.load('mnist', with_info=True,\n",
    "                              shuffle_files=False)\n",
    "\n"
   ],
   "metadata": {
    "collapsed": false,
    "pycharm": {
     "name": "#%%\n"
    }
   }
  },
  {
   "cell_type": "code",
   "execution_count": 7,
   "outputs": [
    {
     "name": "stdout",
     "output_type": "stream",
     "text": [
      "tfds.core.DatasetInfo(\n",
      "    name='mnist',\n",
      "    version=3.0.1,\n",
      "    description='The MNIST database of handwritten digits.',\n",
      "    homepage='http://yann.lecun.com/exdb/mnist/',\n",
      "    features=FeaturesDict({\n",
      "        'image': Image(shape=(28, 28, 1), dtype=tf.uint8),\n",
      "        'label': ClassLabel(shape=(), dtype=tf.int64, num_classes=10),\n",
      "    }),\n",
      "    total_num_examples=70000,\n",
      "    splits={\n",
      "        'test': 10000,\n",
      "        'train': 60000,\n",
      "    },\n",
      "    supervised_keys=('image', 'label'),\n",
      "    citation=\"\"\"@article{lecun2010mnist,\n",
      "      title={MNIST handwritten digit database},\n",
      "      author={LeCun, Yann and Cortes, Corinna and Burges, CJ},\n",
      "      journal={ATT Labs [Online]. Available: http://yann.lecun.com/exdb/mnist},\n",
      "      volume={2},\n",
      "      year={2010}\n",
      "    }\"\"\",\n",
      "    redistribution_info=,\n",
      ")\n",
      "\n",
      "dict_keys(['test', 'train'])\n"
     ]
    }
   ],
   "source": [
    "print(mnist_info)\n",
    "\n",
    "print(mnist.keys())\n",
    "\n"
   ],
   "metadata": {
    "collapsed": false,
    "pycharm": {
     "name": "#%%\n"
    }
   }
  },
  {
   "cell_type": "code",
   "execution_count": 9,
   "outputs": [
    {
     "name": "stdout",
     "output_type": "stream",
     "text": [
      "(10, 28, 28, 1) tf.Tensor([4 1 0 7 8 1 2 7 1 6], shape=(10,), dtype=int64)\n"
     ]
    },
    {
     "data": {
      "text/plain": "<Figure size 1080x432 with 10 Axes>",
      "image/png": "[encoded data removed]"
     },
     "metadata": {},
     "output_type": "display_data"
    }
   ],
   "source": [
    "import tensorflow as tf\n",
    "import matplotlib.pyplot as plt\n",
    "ds_train = mnist['train']\n",
    "\n",
    "assert isinstance(ds_train, tf.data.Dataset)\n",
    "\n",
    "ds_train = ds_train.map(lambda item:\n",
    "     (item['image'], item['label']))\n",
    "\n",
    "ds_train = ds_train.batch(10)\n",
    "batch = next(iter(ds_train))\n",
    "print(batch[0].shape, batch[1])\n",
    "\n",
    "fig = plt.figure(figsize=(15, 6))\n",
    "for i,(image,label) in enumerate(zip(batch[0], batch[1])):\n",
    "    ax = fig.add_subplot(2, 5, i+1)\n",
    "    ax.set_xticks([]); ax.set_yticks([])\n",
    "    ax.imshow(image[:, :, 0], cmap='gray_r')\n",
    "    ax.set_title('{}'.format(label), size=15)\n",
    "\n",
    "plt.show()\n",
    "\n"
   ],
   "metadata": {
    "collapsed": false,
    "pycharm": {
     "name": "#%%\n"
    }
   }
  }
 ],
 "metadata": {
  "kernelspec": {
   "display_name": "Python 3",
   "language": "python",
   "name": "python3"
  },
  "language_info": {
   "codemirror_mode": {
    "name": "ipython",
    "version": 2
   },
   "file_extension": ".py",
   "mimetype": "text/x-python",
   "name": "python",
   "nbconvert_exporter": "python",
   "pygments_lexer": "ipython2",
   "version": "2.7.6"
  }
 },
 "nbformat": 4,
 "nbformat_minor": 0
}